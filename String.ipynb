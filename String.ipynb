{
 "cells": [
  {
   "cell_type": "markdown",
   "id": "3a6f7564-7d9c-45dc-b4ad-8c29401d18ba",
   "metadata": {},
   "source": [
    "# Python String Exercise"
   ]
  },
  {
   "cell_type": "markdown",
   "id": "3eb466e9-2add-4f5f-9bb6-1a00b3ad8ea9",
   "metadata": {},
   "source": [
    "### 1. How do you concatenate two strings in Python?"
   ]
  },
  {
   "cell_type": "code",
   "execution_count": 1,
   "id": "053e3750-d466-46e1-b252-e104141cc75d",
   "metadata": {},
   "outputs": [
    {
     "name": "stdout",
     "output_type": "stream",
     "text": [
      "Hello World\n"
     ]
    }
   ],
   "source": [
    "str1 = \"Hello\"\n",
    "str2 = \"World\"\n",
    "str = str1 + \" \" + str2\n",
    "print(str)"
   ]
  },
  {
   "cell_type": "markdown",
   "id": "e7ac9781-a10e-4720-97d0-6d0819ba87cf",
   "metadata": {},
   "source": [
    "### 2.What is the difference between the + operator and the join() method for concatenating strings?"
   ]
  },
  {
   "cell_type": "code",
   "execution_count": 6,
   "id": "e280034d-e41d-4761-a4f2-4d65fd685666",
   "metadata": {},
   "outputs": [
    {
     "name": "stdout",
     "output_type": "stream",
     "text": [
      "Hello World\n",
      "Hello World\n"
     ]
    }
   ],
   "source": [
    "# 1. Using the + operator\n",
    "str1 = \"Hello\"\n",
    "str2 = \"World\"\n",
    "str = str1 + \" \" + str2\n",
    "print(str)\n",
    "\n",
    "# 2. Using the join() method\n",
    "str = [\"Hello\", \"World\"]\n",
    "result = \" \".join(str)\n",
    "print(result)"
   ]
  },
  {
   "cell_type": "markdown",
   "id": "d77d9514-c265-4534-a254-e0aa49d76dc3",
   "metadata": {},
   "source": [
    "### 3. How do you access individual characters in a string?"
   ]
  },
  {
   "cell_type": "code",
   "execution_count": 19,
   "id": "e13abb63-88be-4496-9e40-09827bf12bde",
   "metadata": {},
   "outputs": [
    {
     "name": "stdout",
     "output_type": "stream",
     "text": [
      "H\n",
      "Hel\n",
      "Hello, Wo\n",
      "Hr\n",
      "Hello, Worl\n",
      "orl\n",
      "!dlroW ,olleH\n"
     ]
    }
   ],
   "source": [
    "str = \"Hello, World!\"\n",
    "print(str[0:1])\n",
    "print(str[0:3])\n",
    "print(str[0:9])\n",
    "print(str[0::9])\n",
    "print(str[:-2])\n",
    "print(str[-5:-2])\n",
    "print(str[::-1])\n"
   ]
  },
  {
   "cell_type": "markdown",
   "id": "79de45aa-7036-472f-94d2-dc9b0bfee748",
   "metadata": {},
   "source": [
    "### 4. What method is used to find the length of a string in Python?"
   ]
  },
  {
   "cell_type": "code",
   "execution_count": 21,
   "id": "5f3062de-d719-4139-a748-060b573898c3",
   "metadata": {},
   "outputs": [
    {
     "name": "stdout",
     "output_type": "stream",
     "text": [
      "13\n"
     ]
    }
   ],
   "source": [
    "str = \"Hello, World!\"\n",
    "length = len(str)\n",
    "print(length)"
   ]
  },
  {
   "cell_type": "markdown",
   "id": "9488f14a-0618-4a26-8951-641f1a9046c6",
   "metadata": {},
   "source": [
    "### 5. How can you convert a string to uppercase in Python?"
   ]
  },
  {
   "cell_type": "code",
   "execution_count": 23,
   "id": "8c43e881-e376-40b9-9d12-0de2d48e4287",
   "metadata": {},
   "outputs": [
    {
     "name": "stdout",
     "output_type": "stream",
     "text": [
      "HELLO, WORLD!\n"
     ]
    }
   ],
   "source": [
    "str = \"Hello, World!\"\n",
    "uppercase_str = str.upper()\n",
    "print(uppercase_str)"
   ]
  },
  {
   "cell_type": "markdown",
   "id": "21b5fc7c-3e6d-484c-b5b0-f3444908a166",
   "metadata": {},
   "source": [
    "### 6. How can you convert a string to lowercase in Python?"
   ]
  },
  {
   "cell_type": "code",
   "execution_count": 25,
   "id": "507502a4-c18d-4e27-a900-03af8bbdcc02",
   "metadata": {},
   "outputs": [
    {
     "name": "stdout",
     "output_type": "stream",
     "text": [
      "hello, world!\n"
     ]
    }
   ],
   "source": [
    "str = \"Hello, World!\"\n",
    "lowercase_str = str.lower()\n",
    "print(lowercase_str)\n"
   ]
  },
  {
   "cell_type": "markdown",
   "id": "bb227de2-8816-46ee-add2-b8cb956e995d",
   "metadata": {},
   "source": [
    "### 7. What method is used to replace substrings within a string?"
   ]
  },
  {
   "cell_type": "code",
   "execution_count": 27,
   "id": "f23f2e39-1663-4eb2-b627-1a3e7f7b5a53",
   "metadata": {},
   "outputs": [
    {
     "name": "stdout",
     "output_type": "stream",
     "text": [
      "Hello, Python!\n"
     ]
    }
   ],
   "source": [
    "str = \"Hello, World!\"\n",
    "new_str = str.replace(\"World\", \"Python\")\n",
    "print(new_str)"
   ]
  },
  {
   "cell_type": "markdown",
   "id": "e5050485-9660-4e82-9f17-9c62c80bf269",
   "metadata": {},
   "source": [
    "### 8. How can you split a string into a list of substrings based on a delimiter?"
   ]
  },
  {
   "cell_type": "code",
   "execution_count": 33,
   "id": "7cb17317-d485-4e65-95f5-b3698124f3c5",
   "metadata": {},
   "outputs": [
    {
     "name": "stdout",
     "output_type": "stream",
     "text": [
      "['Bhoot', 'Dayan', 'Pishach', 'Chudail', 'Rakshas']\n"
     ]
    }
   ],
   "source": [
    "Rishtedar = \"Bhoot,Dayan,Pishach,Chudail,Rakshas\"\n",
    "substr = Rishtedar.split(\",\")\n",
    "print(substr)"
   ]
  },
  {
   "cell_type": "markdown",
   "id": "728f9047-4719-4b72-adf3-042d2a26473d",
   "metadata": {},
   "source": [
    "### 9. How do you check if a string starts with a particular substring?"
   ]
  },
  {
   "cell_type": "code",
   "execution_count": 42,
   "id": "7922aa83-b557-4253-b667-d7da9cf777c8",
   "metadata": {},
   "outputs": [
    {
     "name": "stdout",
     "output_type": "stream",
     "text": [
      "True\n"
     ]
    }
   ],
   "source": [
    "str = \"Hello, World!\"\n",
    "start_with_substr = str.startswith(\"Hello\")\n",
    "print(substr)\n"
   ]
  },
  {
   "cell_type": "markdown",
   "id": "b8114eab-6362-4a1e-aab1-c11ca519ea1e",
   "metadata": {},
   "source": [
    "### 10. How do you check if a string ends with a particular substring?"
   ]
  },
  {
   "cell_type": "code",
   "execution_count": 40,
   "id": "f87be857-4948-4dec-93da-8d812193d943",
   "metadata": {},
   "outputs": [
    {
     "name": "stdout",
     "output_type": "stream",
     "text": [
      "True\n"
     ]
    }
   ],
   "source": [
    "str = \"Hello, World!\"\n",
    "ends_with_world = str.endswith(\"World!\")\n",
    "print(ends_with_world)"
   ]
  },
  {
   "cell_type": "markdown",
   "id": "b8891118-3dbd-4511-a4c8-b76e869a1e38",
   "metadata": {},
   "source": [
    "### 11. How can you remove leading and trailing whitespace from a string?"
   ]
  },
  {
   "cell_type": "code",
   "execution_count": 44,
   "id": "979c6caf-52da-48e4-8640-e2c918f34831",
   "metadata": {},
   "outputs": [
    {
     "name": "stdout",
     "output_type": "stream",
     "text": [
      "Hello, World!\n"
     ]
    }
   ],
   "source": [
    "str = \"   Hello, World!   \"\n",
    "trimmed_str = str.strip()\n",
    "print(trimmed_str)"
   ]
  },
  {
   "cell_type": "markdown",
   "id": "e1ff509c-0de0-4bd2-988b-413aff9b05bc",
   "metadata": {},
   "source": [
    "### 12. What method is used to find the index of the first occurrence of a substring within a \n",
    "string?"
   ]
  },
  {
   "cell_type": "code",
   "execution_count": 46,
   "id": "1848422b-0c0c-4080-a9f4-ec93cfc79f8b",
   "metadata": {},
   "outputs": [
    {
     "name": "stdout",
     "output_type": "stream",
     "text": [
      "7\n"
     ]
    }
   ],
   "source": [
    "str = \"Hello, World!\"\n",
    "index = str.find(\"World\")\n",
    "print(index)"
   ]
  },
  {
   "cell_type": "markdown",
   "id": "c2bc8918-7be7-42a3-93ab-3b8479b34a87",
   "metadata": {},
   "source": [
    "### 13. How can you count the number of occurrences of a substring within a string?"
   ]
  },
  {
   "cell_type": "code",
   "execution_count": 52,
   "id": "cb03281a-cea8-441d-8a84-4e6f963087e5",
   "metadata": {},
   "outputs": [
    {
     "name": "stdout",
     "output_type": "stream",
     "text": [
      "3\n"
     ]
    }
   ],
   "source": [
    "str = \"She loves to read books, and she reads books every day because reading books makes her happy\"\n",
    "substring_count = str.count(\"books\")\n",
    "print(substring_count)\n"
   ]
  },
  {
   "cell_type": "markdown",
   "id": "ac096099-a1d0-4a65-a8d5-32442b6b53d2",
   "metadata": {},
   "source": [
    "### 14. How do you check if a string contains only alphabetic characters?"
   ]
  },
  {
   "cell_type": "code",
   "execution_count": 54,
   "id": "19cc1490-4889-47bd-aab4-43833f03f7cb",
   "metadata": {},
   "outputs": [
    {
     "name": "stdout",
     "output_type": "stream",
     "text": [
      "True\n",
      "False\n",
      "False\n"
     ]
    }
   ],
   "source": [
    "str1 = \"HelloWorld\"\n",
    "str2 = \"Hello World!\"\n",
    "str3 = \"12345\"\n",
    "\n",
    "print(str1.isalpha())\n",
    "print(str2.isalpha())  \n",
    "print(str3.isalpha()) "
   ]
  },
  {
   "cell_type": "markdown",
   "id": "ac4beed8-5494-43c1-b59a-4953674a4ecd",
   "metadata": {},
   "source": [
    "### 15. How do you check if a string contains only numeric characters?"
   ]
  },
  {
   "cell_type": "code",
   "execution_count": 56,
   "id": "e935cd49-5fc2-49a6-bdac-96c66c174958",
   "metadata": {},
   "outputs": [
    {
     "name": "stdout",
     "output_type": "stream",
     "text": [
      "True\n",
      "False\n",
      "False\n"
     ]
    }
   ],
   "source": [
    "str1 = \"12345\"\n",
    "str2 = \"1234a5\"\n",
    "str3 = \"12.345\"\n",
    "\n",
    "print(str1.isnumeric())\n",
    "print(str2.isnumeric())\n",
    "print(str3.isnumeric()) "
   ]
  },
  {
   "cell_type": "markdown",
   "id": "cd069de1-ffa8-4b60-bd52-c062df7e1199",
   "metadata": {},
   "source": [
    "### 16. How can you check if a string is a palindrome?"
   ]
  },
  {
   "cell_type": "code",
   "execution_count": 70,
   "id": "cbf756ba-64d6-4137-b08c-b7ace63fbdfa",
   "metadata": {},
   "outputs": [
    {
     "name": "stdout",
     "output_type": "stream",
     "text": [
      "True\n",
      "True\n",
      "True\n",
      "True\n",
      "False\n"
     ]
    }
   ],
   "source": [
    "\n",
    "\n",
    "def is_palindrome(j):    \n",
    "    j = j.lower()       \n",
    "    return j == j[::-1]\n",
    "print(is_palindrome(\"jahaj\"))  \n",
    "print(is_palindrome(\"Kanak\"))   \n",
    "print(is_palindrome(\"202\"))\n",
    "print(is_palindrome(\"Level\")) \n",
    "print(is_palindrome(\"Diary\")) "
   ]
  },
  {
   "cell_type": "markdown",
   "id": "f24e12de-751d-41c3-9033-7ae38de91218",
   "metadata": {},
   "source": [
    "### 17. How can you reverse a string in Python?"
   ]
  },
  {
   "cell_type": "code",
   "execution_count": 74,
   "id": "41f00ec9-e69d-4ac5-8c52-e0b1cf10b2d3",
   "metadata": {},
   "outputs": [
    {
     "name": "stdout",
     "output_type": "stream",
     "text": [
      "!dlroW ,olleH\n"
     ]
    }
   ],
   "source": [
    "str = \"Hello, World!\"\n",
    "reversed_str = str[::-1]\n",
    "print(reversed_str)"
   ]
  },
  {
   "cell_type": "markdown",
   "id": "484d70f9-62cf-47e6-afcb-df5e02059037",
   "metadata": {},
   "source": [
    "### 18. How do you format a string with placeholders for variable values?"
   ]
  },
  {
   "cell_type": "code",
   "execution_count": 78,
   "id": "28f9e9af-29ef-40ec-8279-6965d840988a",
   "metadata": {},
   "outputs": [
    {
     "name": "stdout",
     "output_type": "stream",
     "text": [
      "My name is Jyoti and I am 25 years old.\n",
      "My name is Jyoti and I am 25 years old.\n",
      "My name is Jyoti and I am 25 years old.\n"
     ]
    }
   ],
   "source": [
    "name = \"Jyoti\"\n",
    "age = 25\n",
    "formatted_str = f\"My name is {name} and I am {age} years old.\"\n",
    "print(formatted_str)\n",
    "\n",
    "formatted_str = \"My name is {} and I am {} years old.\".format(name, age)\n",
    "print(formatted_str)\n",
    "\n",
    "formatted_str = \"My name is %s and I am %d years old.\" % (name, age)\n",
    "print(formatted_str) \n"
   ]
  },
  {
   "cell_type": "markdown",
   "id": "081aa1a2-64ef-43d5-a2fb-8cfe2f6ef860",
   "metadata": {},
   "source": [
    "### 19. How do you access a substring of a string using slicing?"
   ]
  },
  {
   "cell_type": "code",
   "execution_count": 114,
   "id": "25f201ea-7557-4c6a-a57e-9334632fb0d4",
   "metadata": {},
   "outputs": [
    {
     "name": "stdout",
     "output_type": "stream",
     "text": [
      "Hello\n",
      "World!\n",
      "Hello,\n",
      "World\n",
      "Hlo ol!\n"
     ]
    }
   ],
   "source": [
    "text = \"Hello, World!\"\n",
    "\n",
    "substring1 = text[0:5]\n",
    "substring2 = text[7:]   \n",
    "substring3 = text[:6] \n",
    "substring4 = text[7:12]\n",
    "substring5 = text[::2] \n",
    "\n",
    "print(substring1)\n",
    "print(substring2) \n",
    "print(substring3) \n",
    "print(substring4) \n",
    "print(substring5) "
   ]
  },
  {
   "cell_type": "markdown",
   "id": "8c8ea44a-fd18-4316-8ea6-49c3abaa0bb9",
   "metadata": {},
   "source": [
    "### 20. How can you remove specific characters from a string in Python?"
   ]
  },
  {
   "cell_type": "code",
   "execution_count": 86,
   "id": "a8401827-fd14-4a61-8c17-d0a400d75d56",
   "metadata": {},
   "outputs": [
    {
     "name": "stdout",
     "output_type": "stream",
     "text": [
      "Hell, Wrld!\n"
     ]
    }
   ],
   "source": [
    "str = \"Hello, World!\"\n",
    "removed_char = str.replace('o', '')\n",
    "print(removed_char)\n"
   ]
  },
  {
   "cell_type": "code",
   "execution_count": null,
   "id": "4e8b0ea1-8a52-4233-8bda-1a824f6506f0",
   "metadata": {},
   "outputs": [],
   "source": []
  }
 ],
 "metadata": {
  "kernelspec": {
   "display_name": "Python 3 (ipykernel)",
   "language": "python",
   "name": "python3"
  },
  "language_info": {
   "codemirror_mode": {
    "name": "ipython",
    "version": 3
   },
   "file_extension": ".py",
   "mimetype": "text/x-python",
   "name": "python",
   "nbconvert_exporter": "python",
   "pygments_lexer": "ipython3",
   "version": "3.12.4"
  }
 },
 "nbformat": 4,
 "nbformat_minor": 5
}
